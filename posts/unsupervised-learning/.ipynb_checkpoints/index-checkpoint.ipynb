{
 "cells": [
  {
   "cell_type": "raw",
   "id": "3b979827-d884-4cdd-9617-2acd17e5be52",
   "metadata": {},
   "source": [
    "---\n",
    "title: Unsupervised Learning with Linear Algebra\n",
    "author: Katie Macalintal\n",
    "date: '2023-04-12'\n",
    "image: \"\"\n",
    "description: \"Implement and experiment with two simple ML approaches for image compression and image segmentation\"\n",
    "format: html\n",
    "---"
   ]
  }
 ],
 "metadata": {
  "kernelspec": {
   "display_name": "Python [conda env:ml-0451] *",
   "language": "python",
   "name": "conda-env-ml-0451-py"
  },
  "language_info": {
   "codemirror_mode": {
    "name": "ipython",
    "version": 3
   },
   "file_extension": ".py",
   "mimetype": "text/x-python",
   "name": "python",
   "nbconvert_exporter": "python",
   "pygments_lexer": "ipython3",
   "version": "3.9.16"
  }
 },
 "nbformat": 4,
 "nbformat_minor": 5
}
