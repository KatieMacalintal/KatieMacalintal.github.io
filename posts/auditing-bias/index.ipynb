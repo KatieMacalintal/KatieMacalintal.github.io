{
 "cells": [
  {
   "cell_type": "raw",
   "id": "af977416-1c62-4694-920a-74477655e05a",
   "metadata": {},
   "source": [
    "---\n",
    "title: Auditing Allocative Bias\n",
    "author: Katie Macalintal\n",
    "date: '2023-03-29'\n",
    "image: \"income-inequality.jpg\"\n",
    "description: \"Create a machine learning model that predicts whether an individual has an income of over $50K. Perform a fairness audit in order to assess whether or not the algorithm displays bias with respect to sex.\"\n",
    "format: html\n",
    "---"
   ]
  },
  {
   "cell_type": "markdown",
   "id": "e836324a-715e-4707-bda2-095ead9df24f",
   "metadata": {},
   "source": [
    "# Auditing Allocative Bias\n",
    "\n",
    "In this blog post, we are going to train a machine learning model to predict whether an individual in the state of New Jersey (NJ) has an income of over $50K based on demographic characteristics, excluding sex. After training this model, we will perform a fairness audit to assess whether or not our model displays bias with respect to sex. "
   ]
  },
  {
   "cell_type": "markdown",
   "id": "9dbf16a2-3945-4bf2-8b10-fe17c1f3ad76",
   "metadata": {},
   "source": [
    "## Preparing the data\n",
    "\n",
    "We first download the PUMS data for the state of New Jersey and add a column to indicate whether the individual makes more than \\$50K. This new column is titled `SAL50K` and has the value `1` if the individual makes \\$50K or more and `0` otherwise. "
   ]
  },
  {
   "cell_type": "code",
   "execution_count": 1,
   "id": "148c7c08-82f2-4e7f-b0b6-334c88d7b53e",
   "metadata": {},
   "outputs": [
    {
     "data": {
      "text/html": [
       "<div>\n",
       "<style scoped>\n",
       "    .dataframe tbody tr th:only-of-type {\n",
       "        vertical-align: middle;\n",
       "    }\n",
       "\n",
       "    .dataframe tbody tr th {\n",
       "        vertical-align: top;\n",
       "    }\n",
       "\n",
       "    .dataframe thead th {\n",
       "        text-align: right;\n",
       "    }\n",
       "</style>\n",
       "<table border=\"1\" class=\"dataframe\">\n",
       "  <thead>\n",
       "    <tr style=\"text-align: right;\">\n",
       "      <th></th>\n",
       "      <th>RT</th>\n",
       "      <th>SERIALNO</th>\n",
       "      <th>DIVISION</th>\n",
       "      <th>SPORDER</th>\n",
       "      <th>PUMA</th>\n",
       "      <th>REGION</th>\n",
       "      <th>ST</th>\n",
       "      <th>ADJINC</th>\n",
       "      <th>PWGTP</th>\n",
       "      <th>AGEP</th>\n",
       "      <th>...</th>\n",
       "      <th>PWGTP72</th>\n",
       "      <th>PWGTP73</th>\n",
       "      <th>PWGTP74</th>\n",
       "      <th>PWGTP75</th>\n",
       "      <th>PWGTP76</th>\n",
       "      <th>PWGTP77</th>\n",
       "      <th>PWGTP78</th>\n",
       "      <th>PWGTP79</th>\n",
       "      <th>PWGTP80</th>\n",
       "      <th>SAL50K</th>\n",
       "    </tr>\n",
       "  </thead>\n",
       "  <tbody>\n",
       "    <tr>\n",
       "      <th>0</th>\n",
       "      <td>P</td>\n",
       "      <td>2018GQ0000003</td>\n",
       "      <td>2</td>\n",
       "      <td>1</td>\n",
       "      <td>2302</td>\n",
       "      <td>1</td>\n",
       "      <td>34</td>\n",
       "      <td>1013097</td>\n",
       "      <td>12</td>\n",
       "      <td>23</td>\n",
       "      <td>...</td>\n",
       "      <td>3</td>\n",
       "      <td>12</td>\n",
       "      <td>2</td>\n",
       "      <td>3</td>\n",
       "      <td>14</td>\n",
       "      <td>12</td>\n",
       "      <td>13</td>\n",
       "      <td>12</td>\n",
       "      <td>2</td>\n",
       "      <td>0</td>\n",
       "    </tr>\n",
       "    <tr>\n",
       "      <th>1</th>\n",
       "      <td>P</td>\n",
       "      <td>2018GQ0000017</td>\n",
       "      <td>2</td>\n",
       "      <td>1</td>\n",
       "      <td>1800</td>\n",
       "      <td>1</td>\n",
       "      <td>34</td>\n",
       "      <td>1013097</td>\n",
       "      <td>11</td>\n",
       "      <td>51</td>\n",
       "      <td>...</td>\n",
       "      <td>2</td>\n",
       "      <td>9</td>\n",
       "      <td>9</td>\n",
       "      <td>19</td>\n",
       "      <td>10</td>\n",
       "      <td>19</td>\n",
       "      <td>19</td>\n",
       "      <td>2</td>\n",
       "      <td>10</td>\n",
       "      <td>0</td>\n",
       "    </tr>\n",
       "    <tr>\n",
       "      <th>2</th>\n",
       "      <td>P</td>\n",
       "      <td>2018GQ0000122</td>\n",
       "      <td>2</td>\n",
       "      <td>1</td>\n",
       "      <td>2104</td>\n",
       "      <td>1</td>\n",
       "      <td>34</td>\n",
       "      <td>1013097</td>\n",
       "      <td>24</td>\n",
       "      <td>69</td>\n",
       "      <td>...</td>\n",
       "      <td>22</td>\n",
       "      <td>45</td>\n",
       "      <td>2</td>\n",
       "      <td>3</td>\n",
       "      <td>24</td>\n",
       "      <td>24</td>\n",
       "      <td>23</td>\n",
       "      <td>44</td>\n",
       "      <td>1</td>\n",
       "      <td>0</td>\n",
       "    </tr>\n",
       "    <tr>\n",
       "      <th>3</th>\n",
       "      <td>P</td>\n",
       "      <td>2018GQ0000131</td>\n",
       "      <td>2</td>\n",
       "      <td>1</td>\n",
       "      <td>800</td>\n",
       "      <td>1</td>\n",
       "      <td>34</td>\n",
       "      <td>1013097</td>\n",
       "      <td>90</td>\n",
       "      <td>18</td>\n",
       "      <td>...</td>\n",
       "      <td>96</td>\n",
       "      <td>158</td>\n",
       "      <td>96</td>\n",
       "      <td>14</td>\n",
       "      <td>145</td>\n",
       "      <td>157</td>\n",
       "      <td>15</td>\n",
       "      <td>88</td>\n",
       "      <td>156</td>\n",
       "      <td>0</td>\n",
       "    </tr>\n",
       "    <tr>\n",
       "      <th>4</th>\n",
       "      <td>P</td>\n",
       "      <td>2018GQ0000134</td>\n",
       "      <td>2</td>\n",
       "      <td>1</td>\n",
       "      <td>1700</td>\n",
       "      <td>1</td>\n",
       "      <td>34</td>\n",
       "      <td>1013097</td>\n",
       "      <td>68</td>\n",
       "      <td>89</td>\n",
       "      <td>...</td>\n",
       "      <td>67</td>\n",
       "      <td>68</td>\n",
       "      <td>69</td>\n",
       "      <td>6</td>\n",
       "      <td>123</td>\n",
       "      <td>131</td>\n",
       "      <td>132</td>\n",
       "      <td>127</td>\n",
       "      <td>68</td>\n",
       "      <td>0</td>\n",
       "    </tr>\n",
       "  </tbody>\n",
       "</table>\n",
       "<p>5 rows × 287 columns</p>\n",
       "</div>"
      ],
      "text/plain": [
       "  RT       SERIALNO  DIVISION  SPORDER  PUMA  REGION  ST   ADJINC  PWGTP  \\\n",
       "0  P  2018GQ0000003         2        1  2302       1  34  1013097     12   \n",
       "1  P  2018GQ0000017         2        1  1800       1  34  1013097     11   \n",
       "2  P  2018GQ0000122         2        1  2104       1  34  1013097     24   \n",
       "3  P  2018GQ0000131         2        1   800       1  34  1013097     90   \n",
       "4  P  2018GQ0000134         2        1  1700       1  34  1013097     68   \n",
       "\n",
       "   AGEP  ...  PWGTP72  PWGTP73  PWGTP74  PWGTP75  PWGTP76  PWGTP77  PWGTP78  \\\n",
       "0    23  ...        3       12        2        3       14       12       13   \n",
       "1    51  ...        2        9        9       19       10       19       19   \n",
       "2    69  ...       22       45        2        3       24       24       23   \n",
       "3    18  ...       96      158       96       14      145      157       15   \n",
       "4    89  ...       67       68       69        6      123      131      132   \n",
       "\n",
       "   PWGTP79  PWGTP80  SAL50K  \n",
       "0       12        2       0  \n",
       "1        2       10       0  \n",
       "2       44        1       0  \n",
       "3       88      156       0  \n",
       "4      127       68       0  \n",
       "\n",
       "[5 rows x 287 columns]"
      ]
     },
     "execution_count": 1,
     "metadata": {},
     "output_type": "execute_result"
    }
   ],
   "source": [
    "from folktables import ACSDataSource, ACSEmployment, BasicProblem, adult_filter\n",
    "import numpy as np\n",
    "\n",
    "STATE = \"NJ\"\n",
    "\n",
    "data_source = ACSDataSource(survey_year='2018', \n",
    "                            horizon='1-Year', \n",
    "                            survey='person')\n",
    "\n",
    "# Download PUMS data for NEW JERSEY \n",
    "acs_data = data_source.get_data(states=[STATE], download=True)\n",
    "\n",
    "# Add column to indicate whether individual makes more than 50K \n",
    "acs_data = acs_data.assign(SAL50K = 1 * (acs_data['PINCP'] >= 50000))\n",
    "\n",
    "acs_data.head()"
   ]
  },
  {
   "cell_type": "markdown",
   "id": "678349ca-b65b-483d-96af-0cc7148d6a9d",
   "metadata": {},
   "source": [
    "Based on the dimensions of our downloaded PUMS data, we see that there are over 250 features documented. These are too many features to train on, so in our modeling tasks, we will only focus on ...  \n",
    "\n",
    "- `AGEP` is age  \n",
    "- `SCHL` is educational attainment  \n",
    "- `MAR` is marital status  \n",
    "- `RELP` is relationship  \n",
    "- `CIT` is citizenship status. \n",
    "- `MIG` is mobility status\n",
    "- `MIL` is miliary service\n",
    "- `ANC` is ancestry recode\n",
    "- `RAC1P` is race *(1 for White Alone, 2 for Black/African American alone, 3 for Native American alone, 4 for Alaska Native alone, 5 for Native American and Alaska Native tribes specified, 6 for Asian alone, 7 for Native Hawaiian and Other Pacific Islander alone, 8 for Some Other Race alone, 9 for Two or more races)*  \n",
    "- `ESR` is employment status *(1 if employed, 0 if not)*  \n",
    "- `DIS`, `DEAR`, `DEYE`, and `DREM` relate to certain disability statuses  \n",
    "\n",
    "Note that we do not include ...  \n",
    "\n",
    "- `SEX` is binary sex (1 for male, 2 for female)  \n",
    "- `SAL50K` is added column indicating whether the individual makes more than 50K  \n",
    "\n",
    "for `SEX` is our group choice that we will evaluate bias against and `SAL50K` is our target variable. "
   ]
  },
  {
   "cell_type": "code",
   "execution_count": 2,
   "id": "fae75cbe-8b8c-4116-8e41-38b1ddad5507",
   "metadata": {},
   "outputs": [
    {
     "data": {
      "text/html": [
       "<div>\n",
       "<style scoped>\n",
       "    .dataframe tbody tr th:only-of-type {\n",
       "        vertical-align: middle;\n",
       "    }\n",
       "\n",
       "    .dataframe tbody tr th {\n",
       "        vertical-align: top;\n",
       "    }\n",
       "\n",
       "    .dataframe thead th {\n",
       "        text-align: right;\n",
       "    }\n",
       "</style>\n",
       "<table border=\"1\" class=\"dataframe\">\n",
       "  <thead>\n",
       "    <tr style=\"text-align: right;\">\n",
       "      <th></th>\n",
       "      <th>AGEP</th>\n",
       "      <th>SCHL</th>\n",
       "      <th>MAR</th>\n",
       "      <th>RELP</th>\n",
       "      <th>DIS</th>\n",
       "      <th>ESP</th>\n",
       "      <th>CIT</th>\n",
       "      <th>MIG</th>\n",
       "      <th>MIL</th>\n",
       "      <th>ANC</th>\n",
       "      <th>NATIVITY</th>\n",
       "      <th>DEAR</th>\n",
       "      <th>DEYE</th>\n",
       "      <th>DREM</th>\n",
       "      <th>RAC1P</th>\n",
       "      <th>ESR</th>\n",
       "    </tr>\n",
       "  </thead>\n",
       "  <tbody>\n",
       "    <tr>\n",
       "      <th>0</th>\n",
       "      <td>23</td>\n",
       "      <td>21.0</td>\n",
       "      <td>5</td>\n",
       "      <td>17</td>\n",
       "      <td>2</td>\n",
       "      <td>NaN</td>\n",
       "      <td>5</td>\n",
       "      <td>2.0</td>\n",
       "      <td>4.0</td>\n",
       "      <td>1</td>\n",
       "      <td>2</td>\n",
       "      <td>2</td>\n",
       "      <td>2</td>\n",
       "      <td>2.0</td>\n",
       "      <td>6</td>\n",
       "      <td>6.0</td>\n",
       "    </tr>\n",
       "    <tr>\n",
       "      <th>1</th>\n",
       "      <td>51</td>\n",
       "      <td>20.0</td>\n",
       "      <td>4</td>\n",
       "      <td>17</td>\n",
       "      <td>2</td>\n",
       "      <td>NaN</td>\n",
       "      <td>4</td>\n",
       "      <td>1.0</td>\n",
       "      <td>4.0</td>\n",
       "      <td>1</td>\n",
       "      <td>2</td>\n",
       "      <td>2</td>\n",
       "      <td>2</td>\n",
       "      <td>2.0</td>\n",
       "      <td>1</td>\n",
       "      <td>1.0</td>\n",
       "    </tr>\n",
       "    <tr>\n",
       "      <th>2</th>\n",
       "      <td>69</td>\n",
       "      <td>19.0</td>\n",
       "      <td>3</td>\n",
       "      <td>16</td>\n",
       "      <td>1</td>\n",
       "      <td>NaN</td>\n",
       "      <td>1</td>\n",
       "      <td>1.0</td>\n",
       "      <td>4.0</td>\n",
       "      <td>4</td>\n",
       "      <td>1</td>\n",
       "      <td>2</td>\n",
       "      <td>2</td>\n",
       "      <td>2.0</td>\n",
       "      <td>1</td>\n",
       "      <td>6.0</td>\n",
       "    </tr>\n",
       "    <tr>\n",
       "      <th>3</th>\n",
       "      <td>18</td>\n",
       "      <td>16.0</td>\n",
       "      <td>5</td>\n",
       "      <td>16</td>\n",
       "      <td>1</td>\n",
       "      <td>NaN</td>\n",
       "      <td>1</td>\n",
       "      <td>1.0</td>\n",
       "      <td>4.0</td>\n",
       "      <td>2</td>\n",
       "      <td>1</td>\n",
       "      <td>2</td>\n",
       "      <td>2</td>\n",
       "      <td>1.0</td>\n",
       "      <td>9</td>\n",
       "      <td>6.0</td>\n",
       "    </tr>\n",
       "    <tr>\n",
       "      <th>4</th>\n",
       "      <td>89</td>\n",
       "      <td>19.0</td>\n",
       "      <td>2</td>\n",
       "      <td>16</td>\n",
       "      <td>1</td>\n",
       "      <td>NaN</td>\n",
       "      <td>1</td>\n",
       "      <td>1.0</td>\n",
       "      <td>4.0</td>\n",
       "      <td>4</td>\n",
       "      <td>1</td>\n",
       "      <td>2</td>\n",
       "      <td>2</td>\n",
       "      <td>1.0</td>\n",
       "      <td>1</td>\n",
       "      <td>6.0</td>\n",
       "    </tr>\n",
       "  </tbody>\n",
       "</table>\n",
       "</div>"
      ],
      "text/plain": [
       "   AGEP  SCHL  MAR  RELP  DIS  ESP  CIT  MIG  MIL  ANC  NATIVITY  DEAR  DEYE  \\\n",
       "0    23  21.0    5    17    2  NaN    5  2.0  4.0    1         2     2     2   \n",
       "1    51  20.0    4    17    2  NaN    4  1.0  4.0    1         2     2     2   \n",
       "2    69  19.0    3    16    1  NaN    1  1.0  4.0    4         1     2     2   \n",
       "3    18  16.0    5    16    1  NaN    1  1.0  4.0    2         1     2     2   \n",
       "4    89  19.0    2    16    1  NaN    1  1.0  4.0    4         1     2     2   \n",
       "\n",
       "   DREM  RAC1P  ESR  \n",
       "0   2.0      6  6.0  \n",
       "1   2.0      1  1.0  \n",
       "2   2.0      1  6.0  \n",
       "3   1.0      9  6.0  \n",
       "4   1.0      1  6.0  "
      ]
     },
     "execution_count": 2,
     "metadata": {},
     "output_type": "execute_result"
    }
   ],
   "source": [
    "# Possible features suggested to use\n",
    "possible_features=['AGEP', 'SCHL', 'MAR', 'RELP', 'DIS', 'ESP', 'CIT', 'MIG', 'MIL', 'ANC', 'NATIVITY', 'DEAR', 'DEYE', 'DREM', 'SEX', 'RAC1P', 'ESR', 'SAL50K']\n",
    "\n",
    "# Subset features want to use\n",
    "features_to_use = [f for f in possible_features if f not in [\"SEX\", \"PINCP\", \"SAL50K\"]]\n",
    "\n",
    "acs_data[features_to_use].head()"
   ]
  },
  {
   "cell_type": "markdown",
   "id": "89ea6f2b-7bde-4fa5-85bd-387581be9626",
   "metadata": {},
   "source": [
    "  \n",
    "Now that we have chosen our features to use, we construct a `BasicProblem` that allows us to use these features to predict whether an individual makes more than \\$50K using the `SEX` as the group label. Doing this gives us our feature matrix `features`, our label vector `label`, and group label vector `group`. "
   ]
  },
  {
   "cell_type": "code",
   "execution_count": 3,
   "id": "6cf9f523-e650-4477-863a-5c9244fb1ec5",
   "metadata": {},
   "outputs": [],
   "source": [
    "PaymentProblem = BasicProblem(\n",
    "    features=features_to_use,\n",
    "    target='SAL50K',\n",
    "    target_transform=lambda x: x == 1,\n",
    "    group='SEX',\n",
    "    preprocess=lambda x: x,\n",
    "    postprocess=lambda x: np.nan_to_num(x, -1),\n",
    ")\n",
    "\n",
    "features, label, group = PaymentProblem.df_to_numpy(acs_data)"
   ]
  },
  {
   "cell_type": "markdown",
   "id": "35bb5de7-72e7-40e5-8545-9e629e3aef42",
   "metadata": {},
   "source": [
    "Finally, we perform a train-test split on the data. "
   ]
  },
  {
   "cell_type": "code",
   "execution_count": 4,
   "id": "3b3137b7-8eb9-4029-8d9f-fb91966b6698",
   "metadata": {},
   "outputs": [],
   "source": [
    "# Train/test split \n",
    "from sklearn.model_selection import train_test_split\n",
    "X_train, X_test, y_train, y_test, group_train, group_test = train_test_split(\n",
    "    features, label, group, test_size=0.2, random_state=0)"
   ]
  },
  {
   "cell_type": "markdown",
   "id": "87fb46ed-f53e-49c3-b30b-cab6c277a077",
   "metadata": {},
   "source": [
    "## Basic Descriptive of Training Data"
   ]
  },
  {
   "cell_type": "markdown",
   "id": "94e3e3d6-c751-4382-b364-5fb009426043",
   "metadata": {},
   "source": [
    "Before we train our model, we are going to inspect any patterns we see in our training data."
   ]
  },
  {
   "cell_type": "code",
   "execution_count": 5,
   "id": "36223526-e61f-453e-a0c1-0261d2e17af8",
   "metadata": {},
   "outputs": [
    {
     "data": {
      "text/plain": [
       "(70868, 18)"
      ]
     },
     "execution_count": 5,
     "metadata": {},
     "output_type": "execute_result"
    }
   ],
   "source": [
    "import pandas as pd\n",
    "\n",
    "df = pd.DataFrame(X_train, columns = features_to_use)\n",
    "df[\"SEX\"] = group_train\n",
    "df[\">50K\"] = y_train\n",
    "\n",
    "df.shape"
   ]
  },
  {
   "cell_type": "markdown",
   "id": "418a41a1-300f-49d6-a570-ff5f546f8539",
   "metadata": {},
   "source": [
    "Based on the dimensions of our `df` data frame, which holds all the feature values for every individual in our training data, we see that our training data has information for about 70868 different individuals. "
   ]
  },
  {
   "cell_type": "markdown",
   "id": "299696a5-6539-4e12-90c1-e705068e7c3a",
   "metadata": {},
   "source": [
    "Based on the table below, we see that only about 31.21% of the individuals in our training data make more than $50K. "
   ]
  },
  {
   "cell_type": "code",
   "execution_count": 6,
   "id": "c8732b6b-356a-4047-b0a6-854353ff3557",
   "metadata": {},
   "outputs": [
    {
     "data": {
      "text/html": [
       "<div>\n",
       "<style scoped>\n",
       "    .dataframe tbody tr th:only-of-type {\n",
       "        vertical-align: middle;\n",
       "    }\n",
       "\n",
       "    .dataframe tbody tr th {\n",
       "        vertical-align: top;\n",
       "    }\n",
       "\n",
       "    .dataframe thead th {\n",
       "        text-align: right;\n",
       "    }\n",
       "</style>\n",
       "<table border=\"1\" class=\"dataframe\">\n",
       "  <thead>\n",
       "    <tr style=\"text-align: right;\">\n",
       "      <th></th>\n",
       "      <th>&gt;50K</th>\n",
       "      <th>count</th>\n",
       "      <th>percent</th>\n",
       "    </tr>\n",
       "  </thead>\n",
       "  <tbody>\n",
       "    <tr>\n",
       "      <th>0</th>\n",
       "      <td>False</td>\n",
       "      <td>48752</td>\n",
       "      <td>68.79</td>\n",
       "    </tr>\n",
       "    <tr>\n",
       "      <th>1</th>\n",
       "      <td>True</td>\n",
       "      <td>22116</td>\n",
       "      <td>31.21</td>\n",
       "    </tr>\n",
       "  </tbody>\n",
       "</table>\n",
       "</div>"
      ],
      "text/plain": [
       "    >50K  count  percent\n",
       "0  False  48752    68.79\n",
       "1   True  22116    31.21"
      ]
     },
     "execution_count": 6,
     "metadata": {},
     "output_type": "execute_result"
    }
   ],
   "source": [
    "#| tbl-cap: Income Greater Than $50K\n",
    "\n",
    "more_than_50K = df.groupby([\">50K\"]).size().reset_index(name='count')\n",
    "\n",
    "more_than_50K['percent'] = (more_than_50K['count'] / len(df.index) * 100).round(2)\n",
    "\n",
    "more_than_50K"
   ]
  },
  {
   "cell_type": "markdown",
   "id": "a92b1089-541b-42fb-9ef6-286f08227f6b",
   "metadata": {},
   "source": [
    "Based on the table below, we see that of those who make more than $50K in our training data, about 59% of them are male while the remaining 41% of them are female. "
   ]
  },
  {
   "cell_type": "code",
   "execution_count": 7,
   "id": "006e043a-af30-429c-99d0-957ca5246a53",
   "metadata": {},
   "outputs": [
    {
     "data": {
      "text/html": [
       "<div>\n",
       "<style scoped>\n",
       "    .dataframe tbody tr th:only-of-type {\n",
       "        vertical-align: middle;\n",
       "    }\n",
       "\n",
       "    .dataframe tbody tr th {\n",
       "        vertical-align: top;\n",
       "    }\n",
       "\n",
       "    .dataframe thead th {\n",
       "        text-align: right;\n",
       "    }\n",
       "</style>\n",
       "<table border=\"1\" class=\"dataframe\">\n",
       "  <thead>\n",
       "    <tr style=\"text-align: right;\">\n",
       "      <th></th>\n",
       "      <th>SEX</th>\n",
       "      <th>count</th>\n",
       "      <th>percent</th>\n",
       "    </tr>\n",
       "  </thead>\n",
       "  <tbody>\n",
       "    <tr>\n",
       "      <th>0</th>\n",
       "      <td>1</td>\n",
       "      <td>13035</td>\n",
       "      <td>58.94</td>\n",
       "    </tr>\n",
       "    <tr>\n",
       "      <th>1</th>\n",
       "      <td>2</td>\n",
       "      <td>9081</td>\n",
       "      <td>41.06</td>\n",
       "    </tr>\n",
       "  </tbody>\n",
       "</table>\n",
       "</div>"
      ],
      "text/plain": [
       "   SEX  count  percent\n",
       "0    1  13035    58.94\n",
       "1    2   9081    41.06"
      ]
     },
     "execution_count": 7,
     "metadata": {},
     "output_type": "execute_result"
    }
   ],
   "source": [
    "#| tbl-cap: Sex of Those with Income Greater Than $50K\n",
    "filtered_df = df[df['>50K'] == True]\n",
    "\n",
    "more_than_50K_by_sex = filtered_df.groupby(['SEX']).size().reset_index(name='count')\n",
    "\n",
    "more_than_50K_by_sex['percent'] = (more_than_50K_by_sex['count'] / len(filtered_df.index) * 100).round(2)\n",
    "\n",
    "more_than_50K_by_sex"
   ]
  },
  {
   "cell_type": "markdown",
   "id": "d7bb81dc-be95-45e9-b560-550f407cbded",
   "metadata": {},
   "source": [
    "Based on the two tables below, we see that about 38% of males and 25% of females have an income of more than \\$50K. "
   ]
  },
  {
   "cell_type": "code",
   "execution_count": 8,
   "id": "cdb9a028-34bf-4adb-8b59-749a8ca2884e",
   "metadata": {},
   "outputs": [
    {
     "data": {
      "text/html": [
       "<div>\n",
       "<style scoped>\n",
       "    .dataframe tbody tr th:only-of-type {\n",
       "        vertical-align: middle;\n",
       "    }\n",
       "\n",
       "    .dataframe tbody tr th {\n",
       "        vertical-align: top;\n",
       "    }\n",
       "\n",
       "    .dataframe thead th {\n",
       "        text-align: right;\n",
       "    }\n",
       "</style>\n",
       "<table border=\"1\" class=\"dataframe\">\n",
       "  <thead>\n",
       "    <tr style=\"text-align: right;\">\n",
       "      <th></th>\n",
       "      <th>&gt;50K</th>\n",
       "      <th>count</th>\n",
       "      <th>percent</th>\n",
       "    </tr>\n",
       "  </thead>\n",
       "  <tbody>\n",
       "    <tr>\n",
       "      <th>0</th>\n",
       "      <td>False</td>\n",
       "      <td>21342</td>\n",
       "      <td>62.08</td>\n",
       "    </tr>\n",
       "    <tr>\n",
       "      <th>1</th>\n",
       "      <td>True</td>\n",
       "      <td>13035</td>\n",
       "      <td>37.92</td>\n",
       "    </tr>\n",
       "  </tbody>\n",
       "</table>\n",
       "</div>"
      ],
      "text/plain": [
       "    >50K  count  percent\n",
       "0  False  21342    62.08\n",
       "1   True  13035    37.92"
      ]
     },
     "execution_count": 8,
     "metadata": {},
     "output_type": "execute_result"
    }
   ],
   "source": [
    "#| tbl-cap: Males with Income Greater Than $50K\n",
    "\n",
    "filtered_df = df[df['SEX'] == 1]\n",
    "\n",
    "males = filtered_df.groupby(['>50K']).size().reset_index(name='count')\n",
    "\n",
    "males['percent'] = (males['count'] / len(filtered_df.index) * 100).round(2)\n",
    "\n",
    "males"
   ]
  },
  {
   "cell_type": "code",
   "execution_count": 9,
   "id": "969d9b28-1f68-47af-b23a-c194867764f5",
   "metadata": {},
   "outputs": [
    {
     "data": {
      "text/html": [
       "<div>\n",
       "<style scoped>\n",
       "    .dataframe tbody tr th:only-of-type {\n",
       "        vertical-align: middle;\n",
       "    }\n",
       "\n",
       "    .dataframe tbody tr th {\n",
       "        vertical-align: top;\n",
       "    }\n",
       "\n",
       "    .dataframe thead th {\n",
       "        text-align: right;\n",
       "    }\n",
       "</style>\n",
       "<table border=\"1\" class=\"dataframe\">\n",
       "  <thead>\n",
       "    <tr style=\"text-align: right;\">\n",
       "      <th></th>\n",
       "      <th>&gt;50K</th>\n",
       "      <th>count</th>\n",
       "      <th>percent</th>\n",
       "    </tr>\n",
       "  </thead>\n",
       "  <tbody>\n",
       "    <tr>\n",
       "      <th>0</th>\n",
       "      <td>False</td>\n",
       "      <td>27410</td>\n",
       "      <td>75.11</td>\n",
       "    </tr>\n",
       "    <tr>\n",
       "      <th>1</th>\n",
       "      <td>True</td>\n",
       "      <td>9081</td>\n",
       "      <td>24.89</td>\n",
       "    </tr>\n",
       "  </tbody>\n",
       "</table>\n",
       "</div>"
      ],
      "text/plain": [
       "    >50K  count  percent\n",
       "0  False  27410    75.11\n",
       "1   True   9081    24.89"
      ]
     },
     "execution_count": 9,
     "metadata": {},
     "output_type": "execute_result"
    }
   ],
   "source": [
    "#| tbl-cap: Females with Income Greater Than $50K\n",
    "\n",
    "filtered_df = df[df['SEX'] == 2]\n",
    "\n",
    "females = filtered_df.groupby(['>50K']).size().reset_index(name='count')\n",
    "\n",
    "females['percent'] = (females['count'] / len(filtered_df.index) * 100).round(2)\n",
    "\n",
    "females"
   ]
  },
  {
   "cell_type": "markdown",
   "id": "a0c6774e-76a8-42dc-8ac2-a7a095821d04",
   "metadata": {},
   "source": [
    "Overall, based on these tables it looks like males are more likely to make more than $50K.  \n",
    "\n",
    "We can also inspect intersectional trends by studying the proportion of those who make more than $50K broken out by both our chosen group labels of `SEX` and an additional group label. Here we have chosen to use `RAC1P`.  \n",
    "\n",
    "We first create a data frame that holds that information and then use `seaborn` package to visualize the new data frame. \n",
    "\n",
    "Remember that ...  \n",
    "\n",
    "- `RAC1P` is race *(1 for White Alone, 2 for Black/African American alone, 3 for Native American alone, 4 for Alaska Native alone, 5 for Native American and Alaska Native tribes specified, 6 for Asian alone, 7 for Native Hawaiian and Other Pacific Islander alone, 8 for Some Other Race alone, 9 for Two or more races)*  \n",
    "- `SEX` is binary sex (1 for male, 2 for female)  "
   ]
  },
  {
   "cell_type": "code",
   "execution_count": 10,
   "id": "3cb30c10-f4ff-4752-91d5-ef9626f7b913",
   "metadata": {},
   "outputs": [
    {
     "data": {
      "text/plain": [
       "[Text(0.5, 1.0, 'Percent with Income >$50 by SEX and RAC1P')]"
      ]
     },
     "execution_count": 10,
     "metadata": {},
     "output_type": "execute_result"
    },
    {
     "data": {
      "image/png": "[encoded data removed]",
      "text/plain": [
       "<Figure size 640x480 with 1 Axes>"
      ]
     },
     "metadata": {},
     "output_type": "display_data"
    }
   ],
   "source": [
    "import seaborn as sns\n",
    "\n",
    "# Create new dataframe\n",
    "filtered_df = df[df['>50K'] == 1]\n",
    "intersectionality = filtered_df.groupby(['SEX', 'RAC1P']).size().reset_index(name='count')\n",
    "intersectionality['Percent'] = (intersectionality['count'] / len(filtered_df.index) * 100).round(2)\n",
    "\n",
    "# Visualize it using seaborn package\n",
    "sns.set_style(\"whitegrid\")\n",
    "sns.barplot(x=\"RAC1P\", y=\"Percent\", hue=\"SEX\", data=intersectionality).set(title='Percent with Income >$50 by SEX and RAC1P')"
   ]
  },
  {
   "cell_type": "markdown",
   "id": "3773ba48-861b-4718-90fd-1123169e3145",
   "metadata": {},
   "source": [
    "Based on the bar plot above, we see that white men make up the majority of those who make more than \\$50K in our data, followed by white women. In our training data, we also see that individuals who are not white, regardless of their sex, make up a small portion of those who make more than \\$50K."
   ]
  },
  {
   "cell_type": "markdown",
   "id": "7845c817-e6ff-4047-a6bb-2061f3902477",
   "metadata": {},
   "source": [
    "## Training Our Model"
   ]
  },
  {
   "cell_type": "markdown",
   "id": "6dc32560-14fd-4c7a-b41c-3985616d44ae",
   "metadata": {},
   "source": [
    "Now it is time to train our model. The model we chose to use is the `DecisionTreeClassifier`, which requires a specified `max_depth`. To find our optimum `max_depth` we use cross validation. "
   ]
  },
  {
   "cell_type": "code",
   "execution_count": 11,
   "id": "391eb1f1-344a-4b0b-a9d2-89c11a9a9487",
   "metadata": {},
   "outputs": [
    {
     "data": {
      "image/png": "[encoded data removed]",
      "text/plain": [
       "<Figure size 640x480 with 1 Axes>"
      ]
     },
     "metadata": {},
     "output_type": "display_data"
    }
   ],
   "source": [
    "from sklearn.model_selection import cross_val_score\n",
    "from sklearn.tree import DecisionTreeClassifier\n",
    "from matplotlib import pyplot as plt\n",
    "\n",
    "fig, ax = plt.subplots(1)\n",
    "\n",
    "max_score = 0\n",
    "best_depth = 0\n",
    "for d in range(2, 20):\n",
    "    T = DecisionTreeClassifier(max_depth = d)\n",
    "    cv_mean = cross_val_score(T, X_train, y_train, cv = 10).mean()\n",
    "    ax.scatter(d, cv_mean, color = \"black\")\n",
    "    if cv_mean > max_score:\n",
    "        max_score = cv_mean \n",
    "        best_depth = d\n",
    "\n",
    "labs = ax.set(xlabel = \"Complexity (depth)\", ylabel = \"Performance (score)\")"
   ]
  },
  {
   "cell_type": "markdown",
   "id": "a36fad5a-80ee-48fb-b330-1140c995b3d6",
   "metadata": {},
   "source": [
    "For our model, we create a pipeline with `StandardScaler()` and our `DecisionTreeClassifier` with the our found optimum `max_depth`. "
   ]
  },
  {
   "cell_type": "code",
   "execution_count": 12,
   "id": "5ba20e47-fb17-43c4-9244-14fa320a401e",
   "metadata": {},
   "outputs": [
    {
     "data": {
      "text/html": [
       "<style>#sk-container-id-1 {color: black;background-color: white;}#sk-container-id-1 pre{padding: 0;}#sk-container-id-1 div.sk-toggleable {background-color: white;}#sk-container-id-1 label.sk-toggleable__label {cursor: pointer;display: block;width: 100%;margin-bottom: 0;padding: 0.3em;box-sizing: border-box;text-align: center;}#sk-container-id-1 label.sk-toggleable__label-arrow:before {content: \"▸\";float: left;margin-right: 0.25em;color: #696969;}#sk-container-id-1 label.sk-toggleable__label-arrow:hover:before {color: black;}#sk-container-id-1 div.sk-estimator:hover label.sk-toggleable__label-arrow:before {color: black;}#sk-container-id-1 div.sk-toggleable__content {max-height: 0;max-width: 0;overflow: hidden;text-align: left;background-color: #f0f8ff;}#sk-container-id-1 div.sk-toggleable__content pre {margin: 0.2em;color: black;border-radius: 0.25em;background-color: #f0f8ff;}#sk-container-id-1 input.sk-toggleable__control:checked~div.sk-toggleable__content {max-height: 200px;max-width: 100%;overflow: auto;}#sk-container-id-1 input.sk-toggleable__control:checked~label.sk-toggleable__label-arrow:before {content: \"▾\";}#sk-container-id-1 div.sk-estimator input.sk-toggleable__control:checked~label.sk-toggleable__label {background-color: #d4ebff;}#sk-container-id-1 div.sk-label input.sk-toggleable__control:checked~label.sk-toggleable__label {background-color: #d4ebff;}#sk-container-id-1 input.sk-hidden--visually {border: 0;clip: rect(1px 1px 1px 1px);clip: rect(1px, 1px, 1px, 1px);height: 1px;margin: -1px;overflow: hidden;padding: 0;position: absolute;width: 1px;}#sk-container-id-1 div.sk-estimator {font-family: monospace;background-color: #f0f8ff;border: 1px dotted black;border-radius: 0.25em;box-sizing: border-box;margin-bottom: 0.5em;}#sk-container-id-1 div.sk-estimator:hover {background-color: #d4ebff;}#sk-container-id-1 div.sk-parallel-item::after {content: \"\";width: 100%;border-bottom: 1px solid gray;flex-grow: 1;}#sk-container-id-1 div.sk-label:hover label.sk-toggleable__label {background-color: #d4ebff;}#sk-container-id-1 div.sk-serial::before {content: \"\";position: absolute;border-left: 1px solid gray;box-sizing: border-box;top: 0;bottom: 0;left: 50%;z-index: 0;}#sk-container-id-1 div.sk-serial {display: flex;flex-direction: column;align-items: center;background-color: white;padding-right: 0.2em;padding-left: 0.2em;position: relative;}#sk-container-id-1 div.sk-item {position: relative;z-index: 1;}#sk-container-id-1 div.sk-parallel {display: flex;align-items: stretch;justify-content: center;background-color: white;position: relative;}#sk-container-id-1 div.sk-item::before, #sk-container-id-1 div.sk-parallel-item::before {content: \"\";position: absolute;border-left: 1px solid gray;box-sizing: border-box;top: 0;bottom: 0;left: 50%;z-index: -1;}#sk-container-id-1 div.sk-parallel-item {display: flex;flex-direction: column;z-index: 1;position: relative;background-color: white;}#sk-container-id-1 div.sk-parallel-item:first-child::after {align-self: flex-end;width: 50%;}#sk-container-id-1 div.sk-parallel-item:last-child::after {align-self: flex-start;width: 50%;}#sk-container-id-1 div.sk-parallel-item:only-child::after {width: 0;}#sk-container-id-1 div.sk-dashed-wrapped {border: 1px dashed gray;margin: 0 0.4em 0.5em 0.4em;box-sizing: border-box;padding-bottom: 0.4em;background-color: white;}#sk-container-id-1 div.sk-label label {font-family: monospace;font-weight: bold;display: inline-block;line-height: 1.2em;}#sk-container-id-1 div.sk-label-container {text-align: center;}#sk-container-id-1 div.sk-container {/* jupyter's `normalize.less` sets `[hidden] { display: none; }` but bootstrap.min.css set `[hidden] { display: none !important; }` so we also need the `!important` here to be able to override the default hidden behavior on the sphinx rendered scikit-learn.org. See: https://github.com/scikit-learn/scikit-learn/issues/21755 */display: inline-block !important;position: relative;}#sk-container-id-1 div.sk-text-repr-fallback {display: none;}</style><div id=\"sk-container-id-1\" class=\"sk-top-container\"><div class=\"sk-text-repr-fallback\"><pre>Pipeline(steps=[(&#x27;standardscaler&#x27;, StandardScaler()),\n",
       "                (&#x27;decisiontreeclassifier&#x27;,\n",
       "                 DecisionTreeClassifier(max_depth=9))])</pre><b>In a Jupyter environment, please rerun this cell to show the HTML representation or trust the notebook. <br />On GitHub, the HTML representation is unable to render, please try loading this page with nbviewer.org.</b></div><div class=\"sk-container\" hidden><div class=\"sk-item sk-dashed-wrapped\"><div class=\"sk-label-container\"><div class=\"sk-label sk-toggleable\"><input class=\"sk-toggleable__control sk-hidden--visually\" id=\"sk-estimator-id-1\" type=\"checkbox\" ><label for=\"sk-estimator-id-1\" class=\"sk-toggleable__label sk-toggleable__label-arrow\">Pipeline</label><div class=\"sk-toggleable__content\"><pre>Pipeline(steps=[(&#x27;standardscaler&#x27;, StandardScaler()),\n",
       "                (&#x27;decisiontreeclassifier&#x27;,\n",
       "                 DecisionTreeClassifier(max_depth=9))])</pre></div></div></div><div class=\"sk-serial\"><div class=\"sk-item\"><div class=\"sk-estimator sk-toggleable\"><input class=\"sk-toggleable__control sk-hidden--visually\" id=\"sk-estimator-id-2\" type=\"checkbox\" ><label for=\"sk-estimator-id-2\" class=\"sk-toggleable__label sk-toggleable__label-arrow\">StandardScaler</label><div class=\"sk-toggleable__content\"><pre>StandardScaler()</pre></div></div></div><div class=\"sk-item\"><div class=\"sk-estimator sk-toggleable\"><input class=\"sk-toggleable__control sk-hidden--visually\" id=\"sk-estimator-id-3\" type=\"checkbox\" ><label for=\"sk-estimator-id-3\" class=\"sk-toggleable__label sk-toggleable__label-arrow\">DecisionTreeClassifier</label><div class=\"sk-toggleable__content\"><pre>DecisionTreeClassifier(max_depth=9)</pre></div></div></div></div></div></div></div>"
      ],
      "text/plain": [
       "Pipeline(steps=[('standardscaler', StandardScaler()),\n",
       "                ('decisiontreeclassifier',\n",
       "                 DecisionTreeClassifier(max_depth=9))])"
      ]
     },
     "execution_count": 12,
     "metadata": {},
     "output_type": "execute_result"
    }
   ],
   "source": [
    "from sklearn.pipeline import make_pipeline\n",
    "from sklearn.preprocessing import StandardScaler\n",
    "\n",
    "DTC = DecisionTreeClassifier(max_depth = best_depth)\n",
    "model = make_pipeline(StandardScaler(), DTC)\n",
    "\n",
    "model.fit(X_train, y_train)"
   ]
  },
  {
   "cell_type": "markdown",
   "id": "6e67c045-1ccf-4664-b3be-3cf46cf7c280",
   "metadata": {},
   "source": [
    "## Auditing Our Model"
   ]
  },
  {
   "cell_type": "markdown",
   "id": "d69b70a9-7d1d-4294-beec-54f2690fc936",
   "metadata": {},
   "source": [
    "Now that our model is trained, we can audit how it does on the test data. We first define a function that may help with finding the positive predictive values (PPV), which is the proportion of positive results that are truly positive, the false negative rate (FNR), and false positive rate (FPR). We also extract our predictions `y_hat` on the test data. "
   ]
  },
  {
   "cell_type": "code",
   "execution_count": 13,
   "id": "16147033-0aff-409f-9651-0635a968a27e",
   "metadata": {},
   "outputs": [],
   "source": [
    "from sklearn.metrics import confusion_matrix\n",
    "\n",
    "def find_PPV_FNR_FPR(data, predictions):\n",
    "    confusion = confusion_matrix(data, predictions)\n",
    "    TP = confusion[1][1]\n",
    "    TN = confusion[0][0]\n",
    "    FP = confusion[0][1]\n",
    "    FN = confusion[1][0]\n",
    "    PPV = TP / (TP + FP)\n",
    "    print(f\"{PPV=}\")\n",
    "    FNR = FN / (FN + TP)\n",
    "    print(f\"{FNR=}\")\n",
    "    FPR = FP / (FP + TN)\n",
    "    print(f\"{FPR=}\")\n",
    "\n",
    "# Extract predictions \n",
    "y_hat = model.predict(X_test)"
   ]
  },
  {
   "cell_type": "markdown",
   "id": "da94b812-bc07-4482-beff-d3ad56beaa08",
   "metadata": {},
   "source": [
    "### Overall Measures"
   ]
  },
  {
   "cell_type": "markdown",
   "id": "c9578bd9-defa-4818-a598-f582e7b0ccdc",
   "metadata": {},
   "source": [
    "Now we can examine the overall accuracy, PPV, FNR, and FPR from our model on our test data. "
   ]
  },
  {
   "cell_type": "code",
   "execution_count": 14,
   "id": "d5e1d019-4822-468f-884d-3342d2728f3c",
   "metadata": {},
   "outputs": [
    {
     "data": {
      "text/plain": [
       "0.8211987809007789"
      ]
     },
     "execution_count": 14,
     "metadata": {},
     "output_type": "execute_result"
    }
   ],
   "source": [
    "# Overall accuracy \n",
    "(y_hat == y_test).mean()"
   ]
  },
  {
   "cell_type": "code",
   "execution_count": 15,
   "id": "a29d2b04-df02-40fe-8d4e-aff68e8e12e5",
   "metadata": {},
   "outputs": [
    {
     "name": "stdout",
     "output_type": "stream",
     "text": [
      "PPV=0.7009745255599248\n",
      "FNR=0.2571117956151477\n",
      "FPR=0.14337240757439135\n"
     ]
    }
   ],
   "source": [
    "find_PPV_FNR_FPR(y_test, y_hat)"
   ]
  },
  {
   "cell_type": "markdown",
   "id": "fbc15150-ae6e-41b6-af72-602ed4b38a0b",
   "metadata": {},
   "source": [
    "### Group Measures  "
   ]
  },
  {
   "cell_type": "markdown",
   "id": "b100c22e-1963-4d25-ace9-fba55a9bd65c",
   "metadata": {},
   "source": [
    "We can also examine the accuracy, PPV, FNR, and FPR for each subgroup in our test data. So examining group 1, is equivalent to examining these values for the males in the test data. And exmaining group 2, is equivalent to examining these values for the females in the test data. "
   ]
  },
  {
   "cell_type": "code",
   "execution_count": 16,
   "id": "c2931eb3-25a1-4187-9e27-5747630df4c0",
   "metadata": {},
   "outputs": [
    {
     "data": {
      "text/plain": [
       "0.8259855376720318"
      ]
     },
     "execution_count": 16,
     "metadata": {},
     "output_type": "execute_result"
    }
   ],
   "source": [
    "# Accuracy for men\n",
    "(y_hat == y_test)[group_test == 1].mean()"
   ]
  },
  {
   "cell_type": "code",
   "execution_count": 17,
   "id": "fad32192-4ab5-4e61-9b98-84eb7cd04c4c",
   "metadata": {},
   "outputs": [
    {
     "data": {
      "text/plain": [
       "0.8167104111986002"
      ]
     },
     "execution_count": 17,
     "metadata": {},
     "output_type": "execute_result"
    }
   ],
   "source": [
    "# Accuracy for women \n",
    "(y_hat == y_test)[group_test == 2].mean()"
   ]
  },
  {
   "cell_type": "code",
   "execution_count": 18,
   "id": "a6faa6c9-74c9-4c92-b395-f8c8356b8b51",
   "metadata": {},
   "outputs": [
    {
     "name": "stdout",
     "output_type": "stream",
     "text": [
      "PPV=0.7850098619329389\n",
      "FNR=0.2597644141351519\n",
      "FPR=0.12228870605833957\n"
     ]
    }
   ],
   "source": [
    "#PPV FNR and FPR for male\n",
    "find_PPV_FNR_FPR(y_test[group_test == 1], y_hat[group_test == 1])"
   ]
  },
  {
   "cell_type": "code",
   "execution_count": 19,
   "id": "81115caf-c6ed-446c-bc01-b133604d4bd7",
   "metadata": {},
   "outputs": [
    {
     "name": "stdout",
     "output_type": "stream",
     "text": [
      "PPV=0.6099038118988244\n",
      "FNR=0.2533798517226341\n",
      "FPR=0.15983068165231354\n"
     ]
    }
   ],
   "source": [
    "#PPV FNR and FPR for female\n",
    "find_PPV_FNR_FPR(y_test[group_test == 2], y_hat[group_test == 2])"
   ]
  },
  {
   "cell_type": "markdown",
   "id": "cd68456a-4147-4684-a149-02599f1b5324",
   "metadata": {},
   "source": [
    "We see that the accuracy of each group seem to be within a reasonable range of each other, but the PPV, FNR, and FPR differ slightly. "
   ]
  },
  {
   "cell_type": "markdown",
   "id": "e909acc2-deb8-49ff-aa31-252d442b4f7a",
   "metadata": {},
   "source": [
    "## Bias Measures  \n",
    "\n",
    "Based on our work above and using the definition that calibration is where the PPV is the same for all groups in the data, it does not look like our model is calibrated. We see the males had a higher proportion of positively classified cases that were truly positive than the females.  \n",
    "\n",
    "Based on the definition that error rate balance is where the FPR and FNR are the same for all groups, we see that our model does not have error rate balance. We see that FNR (predicting a negative label when it was actually positive) for males are slightly higher than the FNR for females. We also see that the FPR (predicting a positive label when it was actually negative) for males are lower than the FPR for females. Our model does not make the same mistakes for each group at the same rate. This is very interesting results based our basic descriptive of our training data where we found that females were a smaller proportion of those who made more than $50K. \n",
    "\n",
    "Based on the definition that statistical parity is where the PPVs are similar, we also see that our model does not satisfy statistical parity. \n"
   ]
  },
  {
   "cell_type": "markdown",
   "id": "587c9211-52be-4323-8ad7-4bdb205884e7",
   "metadata": {},
   "source": [
    "## Conclusion  "
   ]
  },
  {
   "cell_type": "markdown",
   "id": "c6f93f79-9bdc-420c-afee-8d5a79c689b7",
   "metadata": {},
   "source": [
    "Ultimately, we feel that our model would not be fit to be deployed in the real world.  \n",
    "\n",
    "A model like this, that predicts income labels, might be beneficial to companies that try to function in conditions where income is not explicitly disclosed, but is useful. Companies might use a model like this to be more strategic with who to advertise towards. If the brand is expensive, they might aim to advertise more towards those who have a higher income. A model like this may also be used in more serious conditions that can greatly affect someone's way of living. Government programs that aim to assist lower income individuals may use this model to predict whether who is most in need of their help. It might also help determine who qualifies for loans, insurance, or credit cards. \n",
    "\n",
    "Based on our bias audit, our model seems to display all types of problematic bias. Because our model is not callibrated, the rates at which positively classified cases that are truly positive are not the same for each sex. More specifically, we see the males had a higher proportion of positively classified cases that were truly positive than the females. Because our model does not have error rate balance, it does not make the same mistakes for each group at the same rate. More specifically, we see that the rate for predicting a negative label when it was actually positive for males are slightly higher than the rate for females. We also see that the rate for predicting a positive label when it was actually negative for males are lower than the rate for females.\n",
    "\n",
    "Due to the results of our bias audit, our model could negatively impact males and females depending on the context in which it may be applied. For government programs that look to assist lower income individuals, this model may incorrectly predict that females make more than they do, denying them  help they might really need. For loans, insurance, or credit cards, the model might predict that males make lower than they actually do, denying them these services that can make a difference in their life. We would not be comfortable releasing these models until the results of the bias audit are improved. \n",
    "\n",
    "Beyond bias, I think that this model may be making decisions about an individual without taking their full picture into account. When a model like this has to make big decisions related to loans, credit cards, insurance or government assistance, I think that there should be another person overlooking the models decisions to help regulate and assess the bias in the model. I also think that the individuals this model may be evaluating should have a say before a decision is made on their behalf. For example, if an individual is applying to a government program for assistance, they should be able to talk with those who make decisions to share more information about their story and better inform why they may need assistance. Ultimately, I think that it's still important to incorporate people into these decision making processes. "
   ]
  }
 ],
 "metadata": {
  "kernelspec": {
   "display_name": "Python [conda env:ml-0451] *",
   "language": "python",
   "name": "conda-env-ml-0451-py"
  },
  "language_info": {
   "codemirror_mode": {
    "name": "ipython",
    "version": 3
   },
   "file_extension": ".py",
   "mimetype": "text/x-python",
   "name": "python",
   "nbconvert_exporter": "python",
   "pygments_lexer": "ipython3",
   "version": "3.9.16"
  }
 },
 "nbformat": 4,
 "nbformat_minor": 5
}
