{
 "cells": [
  {
   "cell_type": "raw",
   "id": "22c87a6b-ae57-4ec7-a76e-55f9580eeb15",
   "metadata": {},
   "source": [
    "---\n",
    "title: Classifying Palmer Penguins\n",
    "author: Katie Macalintal\n",
    "date: '2023-03-08'\n",
    "image: \"lter_penguins.png\"\n",
    "description: \"Determine the smallest number of measurements necessary to confidently determine the species of a penguin\"\n",
    "format: html\n",
    "---"
   ]
  },
  {
   "cell_type": "markdown",
   "id": "c3520104-ed4b-44b4-a4b7-165d6346ffcc",
   "metadata": {},
   "source": [
    "# Classifying Palmer Penguins\n",
    "Source Code: [CHECK LINK](https://github.com/KatieMacalintal/KatieMacalintal.github.io/blob/main/posts/palmer-penguins)"
   ]
  },
  {
   "cell_type": "markdown",
   "id": "f36fc1aa-8047-42a3-9452-b9c950717ade",
   "metadata": {},
   "source": [
    "## Explore\n",
    "Construct at least one interesting **displayed figure** (e.g. using seaborn) and at least one interesting **displayed table** (e.g. using pandas.groupby().aggregate). Make sure to include a helpful discussion of both the figure and the table. Don’t just show the result: explain what you learned about the data from these products."
   ]
  },
  {
   "cell_type": "markdown",
   "id": "e9d067f2-3e32-4666-8c41-0057fee3773b",
   "metadata": {},
   "source": [
    "## Model\n",
    "Find **three features** of the data and a model trained on those features which achieves **100% testing accuracy**. You must obtain your three features through a **reproducible process**. That is, you can’t just pick them: you need to code up some kind of search in order to obtain them.\n",
    "- One feature must be qualitative (like Island or Clutch Completion).\n",
    "- The other two features must be quantitative (like Body Mass (g) or Culmen Depth (mm))."
   ]
  },
  {
   "cell_type": "markdown",
   "id": "7c14199d-23e1-4026-b70c-72d428894615",
   "metadata": {},
   "source": [
    "## Evaluate\n",
    "Show the decision regions of your finished model, split out by the qualitative feature."
   ]
  },
  {
   "cell_type": "markdown",
   "id": "c9b36f05-3377-49ae-8b7d-b757e0711138",
   "metadata": {},
   "source": [
    "# ACTUALLY EXPERIMENTING"
   ]
  },
  {
   "cell_type": "markdown",
   "id": "6efbfd5b-c2e4-4af5-8b40-001105e6a78d",
   "metadata": {},
   "source": [
    "## Download training data"
   ]
  },
  {
   "cell_type": "code",
   "execution_count": 3,
   "id": "c2a6ce52-186e-4db0-9040-04b83196f12f",
   "metadata": {},
   "outputs": [
    {
     "data": {
      "text/html": [
       "<div>\n",
       "<style scoped>\n",
       "    .dataframe tbody tr th:only-of-type {\n",
       "        vertical-align: middle;\n",
       "    }\n",
       "\n",
       "    .dataframe tbody tr th {\n",
       "        vertical-align: top;\n",
       "    }\n",
       "\n",
       "    .dataframe thead th {\n",
       "        text-align: right;\n",
       "    }\n",
       "</style>\n",
       "<table border=\"1\" class=\"dataframe\">\n",
       "  <thead>\n",
       "    <tr style=\"text-align: right;\">\n",
       "      <th></th>\n",
       "      <th>studyName</th>\n",
       "      <th>Sample Number</th>\n",
       "      <th>Species</th>\n",
       "      <th>Region</th>\n",
       "      <th>Island</th>\n",
       "      <th>Stage</th>\n",
       "      <th>Individual ID</th>\n",
       "      <th>Clutch Completion</th>\n",
       "      <th>Date Egg</th>\n",
       "      <th>Culmen Length (mm)</th>\n",
       "      <th>Culmen Depth (mm)</th>\n",
       "      <th>Flipper Length (mm)</th>\n",
       "      <th>Body Mass (g)</th>\n",
       "      <th>Sex</th>\n",
       "      <th>Delta 15 N (o/oo)</th>\n",
       "      <th>Delta 13 C (o/oo)</th>\n",
       "      <th>Comments</th>\n",
       "    </tr>\n",
       "  </thead>\n",
       "  <tbody>\n",
       "    <tr>\n",
       "      <th>0</th>\n",
       "      <td>PAL0708</td>\n",
       "      <td>27</td>\n",
       "      <td>Gentoo penguin (Pygoscelis papua)</td>\n",
       "      <td>Anvers</td>\n",
       "      <td>Biscoe</td>\n",
       "      <td>Adult, 1 Egg Stage</td>\n",
       "      <td>N46A1</td>\n",
       "      <td>Yes</td>\n",
       "      <td>11/29/07</td>\n",
       "      <td>44.5</td>\n",
       "      <td>14.3</td>\n",
       "      <td>216.0</td>\n",
       "      <td>4100.0</td>\n",
       "      <td>NaN</td>\n",
       "      <td>7.96621</td>\n",
       "      <td>-25.69327</td>\n",
       "      <td>NaN</td>\n",
       "    </tr>\n",
       "    <tr>\n",
       "      <th>1</th>\n",
       "      <td>PAL0708</td>\n",
       "      <td>22</td>\n",
       "      <td>Gentoo penguin (Pygoscelis papua)</td>\n",
       "      <td>Anvers</td>\n",
       "      <td>Biscoe</td>\n",
       "      <td>Adult, 1 Egg Stage</td>\n",
       "      <td>N41A2</td>\n",
       "      <td>Yes</td>\n",
       "      <td>11/27/07</td>\n",
       "      <td>45.1</td>\n",
       "      <td>14.5</td>\n",
       "      <td>215.0</td>\n",
       "      <td>5000.0</td>\n",
       "      <td>FEMALE</td>\n",
       "      <td>7.63220</td>\n",
       "      <td>-25.46569</td>\n",
       "      <td>NaN</td>\n",
       "    </tr>\n",
       "    <tr>\n",
       "      <th>2</th>\n",
       "      <td>PAL0910</td>\n",
       "      <td>124</td>\n",
       "      <td>Adelie Penguin (Pygoscelis adeliae)</td>\n",
       "      <td>Anvers</td>\n",
       "      <td>Torgersen</td>\n",
       "      <td>Adult, 1 Egg Stage</td>\n",
       "      <td>N67A2</td>\n",
       "      <td>Yes</td>\n",
       "      <td>11/16/09</td>\n",
       "      <td>41.4</td>\n",
       "      <td>18.5</td>\n",
       "      <td>202.0</td>\n",
       "      <td>3875.0</td>\n",
       "      <td>MALE</td>\n",
       "      <td>9.59462</td>\n",
       "      <td>-25.42621</td>\n",
       "      <td>NaN</td>\n",
       "    </tr>\n",
       "    <tr>\n",
       "      <th>3</th>\n",
       "      <td>PAL0910</td>\n",
       "      <td>146</td>\n",
       "      <td>Adelie Penguin (Pygoscelis adeliae)</td>\n",
       "      <td>Anvers</td>\n",
       "      <td>Dream</td>\n",
       "      <td>Adult, 1 Egg Stage</td>\n",
       "      <td>N82A2</td>\n",
       "      <td>Yes</td>\n",
       "      <td>11/16/09</td>\n",
       "      <td>39.0</td>\n",
       "      <td>18.7</td>\n",
       "      <td>185.0</td>\n",
       "      <td>3650.0</td>\n",
       "      <td>MALE</td>\n",
       "      <td>9.22033</td>\n",
       "      <td>-26.03442</td>\n",
       "      <td>NaN</td>\n",
       "    </tr>\n",
       "    <tr>\n",
       "      <th>4</th>\n",
       "      <td>PAL0708</td>\n",
       "      <td>24</td>\n",
       "      <td>Chinstrap penguin (Pygoscelis antarctica)</td>\n",
       "      <td>Anvers</td>\n",
       "      <td>Dream</td>\n",
       "      <td>Adult, 1 Egg Stage</td>\n",
       "      <td>N85A2</td>\n",
       "      <td>No</td>\n",
       "      <td>11/28/07</td>\n",
       "      <td>50.6</td>\n",
       "      <td>19.4</td>\n",
       "      <td>193.0</td>\n",
       "      <td>3800.0</td>\n",
       "      <td>MALE</td>\n",
       "      <td>9.28153</td>\n",
       "      <td>-24.97134</td>\n",
       "      <td>NaN</td>\n",
       "    </tr>\n",
       "  </tbody>\n",
       "</table>\n",
       "</div>"
      ],
      "text/plain": [
       "  studyName  Sample Number                                    Species  Region  \\\n",
       "0   PAL0708             27          Gentoo penguin (Pygoscelis papua)  Anvers   \n",
       "1   PAL0708             22          Gentoo penguin (Pygoscelis papua)  Anvers   \n",
       "2   PAL0910            124        Adelie Penguin (Pygoscelis adeliae)  Anvers   \n",
       "3   PAL0910            146        Adelie Penguin (Pygoscelis adeliae)  Anvers   \n",
       "4   PAL0708             24  Chinstrap penguin (Pygoscelis antarctica)  Anvers   \n",
       "\n",
       "      Island               Stage Individual ID Clutch Completion  Date Egg  \\\n",
       "0     Biscoe  Adult, 1 Egg Stage         N46A1               Yes  11/29/07   \n",
       "1     Biscoe  Adult, 1 Egg Stage         N41A2               Yes  11/27/07   \n",
       "2  Torgersen  Adult, 1 Egg Stage         N67A2               Yes  11/16/09   \n",
       "3      Dream  Adult, 1 Egg Stage         N82A2               Yes  11/16/09   \n",
       "4      Dream  Adult, 1 Egg Stage         N85A2                No  11/28/07   \n",
       "\n",
       "   Culmen Length (mm)  Culmen Depth (mm)  Flipper Length (mm)  Body Mass (g)  \\\n",
       "0                44.5               14.3                216.0         4100.0   \n",
       "1                45.1               14.5                215.0         5000.0   \n",
       "2                41.4               18.5                202.0         3875.0   \n",
       "3                39.0               18.7                185.0         3650.0   \n",
       "4                50.6               19.4                193.0         3800.0   \n",
       "\n",
       "      Sex  Delta 15 N (o/oo)  Delta 13 C (o/oo) Comments  \n",
       "0     NaN            7.96621          -25.69327      NaN  \n",
       "1  FEMALE            7.63220          -25.46569      NaN  \n",
       "2    MALE            9.59462          -25.42621      NaN  \n",
       "3    MALE            9.22033          -26.03442      NaN  \n",
       "4    MALE            9.28153          -24.97134      NaN  "
      ]
     },
     "execution_count": 3,
     "metadata": {},
     "output_type": "execute_result"
    }
   ],
   "source": [
    "import pandas as pd\n",
    "import numpy as np\n",
    "from matplotlib import pyplot as plt\n",
    "\n",
    "\n",
    "# Load training data\n",
    "train_url = \"https://raw.githubusercontent.com/middlebury-csci-0451/CSCI-0451/main/data/palmer-penguins/train.csv\"\n",
    "train = pd.read_csv(train_url)\n",
    "\n",
    "train.head()"
   ]
  },
  {
   "cell_type": "markdown",
   "id": "8abe87ae-1aaf-4330-8798-a99bbe6bb293",
   "metadata": {},
   "source": [
    "## Data Preparation"
   ]
  },
  {
   "cell_type": "code",
   "execution_count": 4,
   "id": "0df4d947-8263-4ee7-9c3a-35097e3ba92b",
   "metadata": {},
   "outputs": [
    {
     "data": {
      "text/html": [
       "<div>\n",
       "<style scoped>\n",
       "    .dataframe tbody tr th:only-of-type {\n",
       "        vertical-align: middle;\n",
       "    }\n",
       "\n",
       "    .dataframe tbody tr th {\n",
       "        vertical-align: top;\n",
       "    }\n",
       "\n",
       "    .dataframe thead th {\n",
       "        text-align: right;\n",
       "    }\n",
       "</style>\n",
       "<table border=\"1\" class=\"dataframe\">\n",
       "  <thead>\n",
       "    <tr style=\"text-align: right;\">\n",
       "      <th></th>\n",
       "      <th>Culmen Length (mm)</th>\n",
       "      <th>Culmen Depth (mm)</th>\n",
       "      <th>Flipper Length (mm)</th>\n",
       "      <th>Body Mass (g)</th>\n",
       "      <th>Delta 15 N (o/oo)</th>\n",
       "      <th>Delta 13 C (o/oo)</th>\n",
       "      <th>Island_Biscoe</th>\n",
       "      <th>Island_Dream</th>\n",
       "      <th>Island_Torgersen</th>\n",
       "      <th>Stage_Adult, 1 Egg Stage</th>\n",
       "      <th>Clutch Completion_No</th>\n",
       "      <th>Clutch Completion_Yes</th>\n",
       "      <th>Sex_FEMALE</th>\n",
       "      <th>Sex_MALE</th>\n",
       "    </tr>\n",
       "  </thead>\n",
       "  <tbody>\n",
       "    <tr>\n",
       "      <th>1</th>\n",
       "      <td>45.1</td>\n",
       "      <td>14.5</td>\n",
       "      <td>215.0</td>\n",
       "      <td>5000.0</td>\n",
       "      <td>7.63220</td>\n",
       "      <td>-25.46569</td>\n",
       "      <td>1</td>\n",
       "      <td>0</td>\n",
       "      <td>0</td>\n",
       "      <td>1</td>\n",
       "      <td>0</td>\n",
       "      <td>1</td>\n",
       "      <td>1</td>\n",
       "      <td>0</td>\n",
       "    </tr>\n",
       "    <tr>\n",
       "      <th>2</th>\n",
       "      <td>41.4</td>\n",
       "      <td>18.5</td>\n",
       "      <td>202.0</td>\n",
       "      <td>3875.0</td>\n",
       "      <td>9.59462</td>\n",
       "      <td>-25.42621</td>\n",
       "      <td>0</td>\n",
       "      <td>0</td>\n",
       "      <td>1</td>\n",
       "      <td>1</td>\n",
       "      <td>0</td>\n",
       "      <td>1</td>\n",
       "      <td>0</td>\n",
       "      <td>1</td>\n",
       "    </tr>\n",
       "    <tr>\n",
       "      <th>3</th>\n",
       "      <td>39.0</td>\n",
       "      <td>18.7</td>\n",
       "      <td>185.0</td>\n",
       "      <td>3650.0</td>\n",
       "      <td>9.22033</td>\n",
       "      <td>-26.03442</td>\n",
       "      <td>0</td>\n",
       "      <td>1</td>\n",
       "      <td>0</td>\n",
       "      <td>1</td>\n",
       "      <td>0</td>\n",
       "      <td>1</td>\n",
       "      <td>0</td>\n",
       "      <td>1</td>\n",
       "    </tr>\n",
       "    <tr>\n",
       "      <th>4</th>\n",
       "      <td>50.6</td>\n",
       "      <td>19.4</td>\n",
       "      <td>193.0</td>\n",
       "      <td>3800.0</td>\n",
       "      <td>9.28153</td>\n",
       "      <td>-24.97134</td>\n",
       "      <td>0</td>\n",
       "      <td>1</td>\n",
       "      <td>0</td>\n",
       "      <td>1</td>\n",
       "      <td>1</td>\n",
       "      <td>0</td>\n",
       "      <td>0</td>\n",
       "      <td>1</td>\n",
       "    </tr>\n",
       "    <tr>\n",
       "      <th>5</th>\n",
       "      <td>33.1</td>\n",
       "      <td>16.1</td>\n",
       "      <td>178.0</td>\n",
       "      <td>2900.0</td>\n",
       "      <td>9.04218</td>\n",
       "      <td>-26.15775</td>\n",
       "      <td>0</td>\n",
       "      <td>1</td>\n",
       "      <td>0</td>\n",
       "      <td>1</td>\n",
       "      <td>0</td>\n",
       "      <td>1</td>\n",
       "      <td>1</td>\n",
       "      <td>0</td>\n",
       "    </tr>\n",
       "  </tbody>\n",
       "</table>\n",
       "</div>"
      ],
      "text/plain": [
       "   Culmen Length (mm)  Culmen Depth (mm)  Flipper Length (mm)  Body Mass (g)  \\\n",
       "1                45.1               14.5                215.0         5000.0   \n",
       "2                41.4               18.5                202.0         3875.0   \n",
       "3                39.0               18.7                185.0         3650.0   \n",
       "4                50.6               19.4                193.0         3800.0   \n",
       "5                33.1               16.1                178.0         2900.0   \n",
       "\n",
       "   Delta 15 N (o/oo)  Delta 13 C (o/oo)  Island_Biscoe  Island_Dream  \\\n",
       "1            7.63220          -25.46569              1             0   \n",
       "2            9.59462          -25.42621              0             0   \n",
       "3            9.22033          -26.03442              0             1   \n",
       "4            9.28153          -24.97134              0             1   \n",
       "5            9.04218          -26.15775              0             1   \n",
       "\n",
       "   Island_Torgersen  Stage_Adult, 1 Egg Stage  Clutch Completion_No  \\\n",
       "1                 0                         1                     0   \n",
       "2                 1                         1                     0   \n",
       "3                 0                         1                     0   \n",
       "4                 0                         1                     1   \n",
       "5                 0                         1                     0   \n",
       "\n",
       "   Clutch Completion_Yes  Sex_FEMALE  Sex_MALE  \n",
       "1                      1           1         0  \n",
       "2                      1           0         1  \n",
       "3                      1           0         1  \n",
       "4                      0           0         1  \n",
       "5                      1           1         0  "
      ]
     },
     "execution_count": 4,
     "metadata": {},
     "output_type": "execute_result"
    }
   ],
   "source": [
    "from sklearn.preprocessing import LabelEncoder\n",
    "le = LabelEncoder()\n",
    "le.fit(train[\"Species\"])\n",
    "\n",
    "# Prepare qualitative data and mark species as labels\n",
    "def prepare_data(df):\n",
    "  df = df.drop([\"studyName\", \"Sample Number\", \"Individual ID\", \"Date Egg\", \"Comments\", \"Region\"], axis = 1)\n",
    "  df = df[df[\"Sex\"] != \".\"]\n",
    "  df = df.dropna()\n",
    "  y = le.transform(df[\"Species\"])\n",
    "  df = df.drop([\"Species\"], axis = 1)\n",
    "  df = pd.get_dummies(df)\n",
    "  return df, y\n",
    "\n",
    "# Prepare training data\n",
    "X_train, y_train = prepare_data(train)\n",
    "X_train.head()"
   ]
  },
  {
   "cell_type": "markdown",
   "id": "95f559d8-8ddc-4c95-80fe-04f2101ddb44",
   "metadata": {},
   "source": [
    "## Question\n",
    "**Predict Question**: Can we predict the species of a penguin given information on their bodies, etc? \n",
    "\n",
    "**QUESTIONS ABOUT HOW THE FEATURES INFLUENCE THE LABEL**  \n",
    "Look at the features and ask questions about whether they influence what label they will be: "
   ]
  },
  {
   "cell_type": "code",
   "execution_count": 6,
   "id": "1522c503-4701-429f-a6a8-120cb5da2cde",
   "metadata": {},
   "outputs": [
    {
     "name": "stdout",
     "output_type": "stream",
     "text": [
      "BASE RATES\n",
      "y_train: [2 0 0 1 0 0 0 2 0 2 0 0 1 1 1 2 1 2 2 0 0 1 2 2 0 2 0 1 1 0 0 0 2 0 2 0 0\n",
      " 0 2 0 0 0 0 0 1 0 2 2 2 1 1 1 2 2 2 0 2 0 2 2 2 0 2 1 0 0 2 0 2 2 0 2 0 0\n",
      " 2 1 1 2 2 0 1 2 2 2 1 0 1 0 0 0 0 1 2 0 2 0 0 2 0 2 2 0 0 1 0 2 0 2 0 2 0\n",
      " 0 2 2 0 2 0 2 0 2 0 2 0 2 2 0 2 0 2 0 2 2 0 2 2 0 1 2 1 2 0 0 0 2 0 0 1 1\n",
      " 0 2 1 2 2 2 2 0 2 0 0 0 0 1 0 0 2 2 0 2 0 1 0 1 2 1 1 1 2 0 1 0 0 1 0 0 2\n",
      " 0 1 1 0 1 1 0 0 1 0 2 1 2 0 1 2 0 2 2 1 1 0 2 0 0 2 1 0 2 2 1 1 2 2 2 0 2\n",
      " 2 2 2 0 0 1 2 1 2 2 1 2 0 1 0 0 0 0 1 2 0 1 1 0 2 0 1 1 1 0 2 0 2 2]\n",
      "species 0 count: 106 percentage: 0.4140625\n",
      "species 1 count: 55 percentage: 0.21484375\n",
      "species 2 count: 95 percentage: 0.37109375\n"
     ]
    }
   ],
   "source": [
    "# INSPECTING DATA \n",
    "print(\"BASE RATES\") \n",
    "print(\"y_train:\", y_train)\n",
    "print(\"species 0 count:\", np.count_nonzero(y_train == 0), \"percentage:\", np.count_nonzero(y_train == 0)/np.size(y_train)) \n",
    "print(\"species 1 count:\", np.count_nonzero(y_train == 1), \"percentage:\", np.count_nonzero(y_train == 1)/np.size(y_train)) \n",
    "print(\"species 2 count:\", np.count_nonzero(y_train == 2), \"percentage:\", np.count_nonzero(y_train == 2)/np.size(y_train)) \n",
    "\n",
    "# WAIT SO IS OUR BASE RATE THE AVERAGE OF THESE? "
   ]
  },
  {
   "cell_type": "markdown",
   "id": "34074ada-900d-4ec4-a61b-bfad842ae9b5",
   "metadata": {},
   "source": [
    "## Choosing Features\n",
    "\n",
    "Might need `combinations function` from the `itertools package`\n",
    "\n",
    "**USE CROSS-VALIDATION!** Simplest way to guard against overfitting issues and get a good feeling for how your model might do on unseen data."
   ]
  },
  {
   "cell_type": "code",
   "execution_count": 7,
   "id": "fec95043-49c8-431e-abac-38827db269ec",
   "metadata": {},
   "outputs": [
    {
     "name": "stdout",
     "output_type": "stream",
     "text": [
      "['Clutch Completion_No', 'Clutch Completion_Yes', 'Culmen Length (mm)', 'Culmen Depth (mm)']\n",
      "['Clutch Completion_No', 'Clutch Completion_Yes', 'Culmen Length (mm)', 'Flipper Length (mm)']\n",
      "['Clutch Completion_No', 'Clutch Completion_Yes', 'Culmen Depth (mm)', 'Flipper Length (mm)']\n",
      "['Sex_FEMALE', 'Sex_MALE', 'Culmen Length (mm)', 'Culmen Depth (mm)']\n",
      "['Sex_FEMALE', 'Sex_MALE', 'Culmen Length (mm)', 'Flipper Length (mm)']\n",
      "['Sex_FEMALE', 'Sex_MALE', 'Culmen Depth (mm)', 'Flipper Length (mm)']\n"
     ]
    }
   ],
   "source": [
    "# WHAT IS THIS CODE DOING??? \n",
    "\n",
    "# GIVEN STARTER CODE\n",
    "\n",
    "from itertools import combinations\n",
    "\n",
    "# these are not actually all the columns: you'll \n",
    "# need to add any of the other ones you want to search for\n",
    "all_qual_cols = [\"Clutch Completion\", \"Sex\"]\n",
    "all_quant_cols = ['Culmen Length (mm)', 'Culmen Depth (mm)', 'Flipper Length (mm)']\n",
    "\n",
    "for qual in all_qual_cols: \n",
    "  qual_cols = [col for col in X_train.columns if qual in col ]\n",
    "  for pair in combinations(all_quant_cols, 2):\n",
    "    cols = qual_cols + list(pair) \n",
    "    print(cols)\n",
    "    # you could train models and score them here, keeping the list of \n",
    "    # columns for the model that has the best score. \n",
    "    # "
   ]
  },
  {
   "cell_type": "markdown",
   "id": "b6241d3f-163f-42f0-80a8-5fbe8cf9b6c7",
   "metadata": {},
   "source": [
    "## Model Choices \n",
    "Remember: We are working with **3 label** now not 2. "
   ]
  },
  {
   "cell_type": "code",
   "execution_count": 8,
   "id": "5a0002c7-8811-4690-a0a5-93c08fa2519a",
   "metadata": {},
   "outputs": [
    {
     "data": {
      "text/plain": [
       "0.6640625"
      ]
     },
     "execution_count": 8,
     "metadata": {},
     "output_type": "execute_result"
    }
   ],
   "source": [
    "from sklearn.linear_model import LogisticRegression\n",
    "\n",
    "# this counts as 3 features because the two Clutch Completion \n",
    "# columns are transformations of a single original measurement. \n",
    "# you should find a way to automatically select some better columns\n",
    "# as suggested in the code block above\n",
    "cols = [\"Flipper Length (mm)\", \"Body Mass (g)\", \"Clutch Completion_No\", \"Clutch Completion_Yes\"]\n",
    "\n",
    "LR = LogisticRegression()\n",
    "LR.fit(X_train[cols], y_train)\n",
    "LR.score(X_train[cols], y_train)"
   ]
  },
  {
   "cell_type": "markdown",
   "id": "cca31fa4-66c5-41a0-a7b3-7b7866ccca18",
   "metadata": {},
   "source": [
    "Since scikit-learn makes it so easy to experiment, this blog post is a great opportunity to explore some out-of-the-box models that we haven’t discussed in class. I’d suggest:\n",
    "\n",
    "- from sklearn.tree import DecisionTreeClassifier. This one has a max_depth parameter that controls the complexity of the model. Use cross-validation to find a good value of the parameter.\n",
    "- from sklearn.ensemble import RandomForestClassifier. State-of-the-art before the rise of neural networks.\n",
    "- from sklearn.svm import SVC. Another state-of-the-art algorithm before the rise of neural networks. Has a parameter gamma that controls the complexity of the model. Again, use cross-validation to select gamma. It’s important to let gamma cover a wide range of values, e.g. gamma = 10**np.arange(-5, 5).\n",
    "\n",
    "You can find a more thorough listing of models on this [page](https://scikit-learn.org/stable/auto_examples/classification/plot_classifier_comparison.html)."
   ]
  },
  {
   "cell_type": "markdown",
   "id": "341e2a4a-6d79-4cd3-b5a1-7a62b0e8877c",
   "metadata": {},
   "source": [
    "## NEED TO TEST AND PLOT DECISION REGIONS\n",
    "\n",
    "Has a link to use for testing later "
   ]
  },
  {
   "cell_type": "markdown",
   "id": "bc128cb6-01d0-4094-a0db-a0ba42713202",
   "metadata": {},
   "source": [
    "## Plotting Decision Regions \n",
    "Code provided with ... "
   ]
  },
  {
   "cell_type": "code",
   "execution_count": 9,
   "id": "71d0defd-a9bf-4a27-b930-9a977ebd8702",
   "metadata": {},
   "outputs": [],
   "source": [
    "from mlxtend.plotting import plot_decision_regions\n",
    "from matplotlib import pyplot as plt\n",
    "import numpy as np\n",
    "\n",
    "def decision_region_panel(X, y, model, qual_features):  \n",
    "  p = len(qual_features)\n",
    "  fig, axarr = plt.subplots(1, p, figsize=(4*p,4))\n",
    "  for i in range(p):\n",
    "\n",
    "      filler_feature_values = {2+j: 0 for j in range(p)}\n",
    "\n",
    "      filler_feature_values.update({2+i: 1})\n",
    "\n",
    "      ix = X[qual_features[i]] == 1\n",
    "\n",
    "      ax = axarr[i]\n",
    "\n",
    "      plot_decision_regions(np.array(X[ix]), y[ix], clf=model,\n",
    "                            filler_feature_values=filler_feature_values,\n",
    "                            filler_feature_ranges={2+j: 0.1 for j in range(p)},\n",
    "                            legend=2, ax=ax)\n",
    "\n",
    "      ax.set_xlabel(X.columns[0])\n",
    "      ax.set_ylabel(X.columns[1])\n",
    "\n",
    "      handles, labels = ax.get_legend_handles_labels()\n",
    "      ax.legend(handles, \n",
    "          [\"Adelie\", \"Chinstrap\", \"Gentoo\"], \n",
    "           framealpha=0.3, scatterpoints=1)\n",
    "\n",
    "  # Adding axes annotations\n",
    "  fig.suptitle(f'Accuracy = {model.score(X, y).round(3)}')\n",
    "  plt.tight_layout()\n",
    "  plt.show()"
   ]
  },
  {
   "cell_type": "code",
   "execution_count": 10,
   "id": "5ae3f5bb-fbb3-45d5-9836-51f02d534210",
   "metadata": {},
   "outputs": [
    {
     "name": "stderr",
     "output_type": "stream",
     "text": [
      "/Users/katiemacalintal/opt/anaconda3/envs/ml-0451/lib/python3.9/site-packages/sklearn/base.py:409: UserWarning: X does not have valid feature names, but LogisticRegression was fitted with feature names\n",
      "  warnings.warn(\n",
      "/Users/katiemacalintal/opt/anaconda3/envs/ml-0451/lib/python3.9/site-packages/sklearn/base.py:409: UserWarning: X does not have valid feature names, but LogisticRegression was fitted with feature names\n",
      "  warnings.warn(\n"
     ]
    },
    {
     "data": {
      "image/png": "[encoded data removed]",
      "text/plain": [
       "<Figure size 800x400 with 2 Axes>"
      ]
     },
     "metadata": {},
     "output_type": "display_data"
    }
   ],
   "source": [
    "qual_features = [\"Clutch Completion_No\", \"Clutch Completion_Yes\"]\n",
    "decision_region_panel(X_train[cols], y_train, LR, qual_features)"
   ]
  }
 ],
 "metadata": {
  "kernelspec": {
   "display_name": "Python 3 (ipykernel)",
   "language": "python",
   "name": "python3"
  },
  "language_info": {
   "codemirror_mode": {
    "name": "ipython",
    "version": 3
   },
   "file_extension": ".py",
   "mimetype": "text/x-python",
   "name": "python",
   "nbconvert_exporter": "python",
   "pygments_lexer": "ipython3",
   "version": "3.9.16"
  },
  "vscode": {
   "interpreter": {
    "hash": "88fc79bb0b294ebe10158aec3d61d60ad875c3ec0ed7836a22ff446743ea2cf9"
   }
  }
 },
 "nbformat": 4,
 "nbformat_minor": 5
}
