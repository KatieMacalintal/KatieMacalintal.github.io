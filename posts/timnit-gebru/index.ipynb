{
 "cells": [
  {
   "cell_type": "raw",
   "id": "9f572b30-af0a-407a-9603-384b3694f2d5",
   "metadata": {},
   "source": [
    "---\n",
    "title: Learning from Timnit Gebru\n",
    "author: Katie Macalintal\n",
    "date: '2023-04-19'\n",
    "image: \"https://static01.nyt.com/images/2020/12/03/business/00googleai/merlin_180772398_f6098f27-13e0-4cd8-981b-5cd3cc7900cc-superJumbo.jpg\"\n",
    "description: \"Reflect on Dr. Timnit Gebru's work and broad talk to the Middlebury campus\"\n",
    "format: html\n",
    "---"
   ]
  },
  {
   "cell_type": "markdown",
   "id": "a8642aa6-6ee8-4706-a599-188dec20f18a",
   "metadata": {},
   "source": [
    "# Learning from Timnit Gebru\n",
    "\n",
    "On April 24th, Dr. Timnit Gebru will be giving a talk and visiting our class virtually for further Q&A on her recent work in AI and tech ethics. \n",
    "\n",
    "![Image of Timnit Gebru by Cody O'Loughlin from New York Times](https://static01.nyt.com/images/2020/12/03/business/00googleai/merlin_180772398_f6098f27-13e0-4cd8-981b-5cd3cc7900cc-superJumbo.jpg)"
   ]
  },
  {
   "cell_type": "markdown",
   "id": "7505fe73-09a0-41b9-a4d6-017cf8ca0697",
   "metadata": {},
   "source": [
    "## About Dr. Timnit Gebru  "
   ]
  },
  {
   "cell_type": "markdown",
   "id": "4394a6d6-640e-4f5e-ab03-191100057788",
   "metadata": {},
   "source": [
    "Dr. Timnit Gebru is a well-known advocate for diversity in technology, who was named one of the [World's 50 Greatest Leaders by Fortune](https://fortune.com/ranking/worlds-greatest-leaders/2021/timnit-gebru/) in 2021 and [Time's Most Influential People](https://time.com/collection/100-most-influential-people-2022/6177822/timnit-gebru/) in 2022. \n",
    "\n",
    "While working at Microsoft in 2018, Dr. Gebru co-authored a research paper with Joy Buolamwini called [Gender Shades](http://gendershades.org/index.html). Gender Shades investigated facial recognition technologies from Microsoft, IBM, and Face++ and found that the models did significantly better on lighter skin males than darker skinned females. \n",
    "More recently in 2021, while working at Google Dr. Gebru authored a paper called [On the Dangers of Stochastic Parrots: Can Language Models Be Too Big?](https://dl.acm.org/doi/10.1145/3442188.3445922). This paper questioned the ethics of large language AI models and raised concerns about the environmental impact of them. This paper noted that Big Tech companies were neglecting the biases being built into language models, which could exacerbate existing inequalities. It pointed out that Big Tech companies, including Google, were prioritizing profits over safety, and ultimately led to her getting fired by Google. \n",
    "\n",
    "Today, Dr. Timnit Gebru serves as the co-founder of [Black in AI](https://blackinai.github.io/#/) and founder and leader of [Distributed Artificial Intelligence Research Institute (DAIR)](https://www.dair-institute.org/). \n",
    "She continues to challenge companies to be more thoughtful in their creations and points out the ways in which technology can fail us if not thought about carefully. Through her work, Dr. Gebru pushes us to ask ourselves, \"What are we building? Why are we building it? And who is it impacting?\" \n"
   ]
  },
  {
   "cell_type": "markdown",
   "id": "bcc6262d-3bbe-4fcc-ad0a-083fee85523f",
   "metadata": {},
   "source": [
    "## Dr. Gebru's Talk at FATE in Computer Vision  "
   ]
  },
  {
   "cell_type": "markdown",
   "id": "6b786bb9-c3ac-4e30-985a-7d1f51ad8ed0",
   "metadata": {},
   "source": [
    "In 2020, Dr. Gebru gave a [talk](https://www.youtube.com/watch?v=0sBE5OyD7fk&t=802s&ab_channel=RemiDenton) as part of a [Tutorial on Fairness, Accountability, Transparency, and Ethics (FATE) in Computer Vision](https://sites.google.com/view/fatecv-tutorial/home?authuser=0).  \n",
    "\n",
    "In this talk, Dr. Gebru discusses the negative effects of image recognition, including its biases, inequalities, and disproportionate harm on various groups and cultures. She emphasizes the impacts that facial recognition can have on our society, highlighting cases such as HireVue’s internal state detection and the Baltimore police's misuse of facial recognition. She notes that these technologies intended or unintended uses not only further inequities but infringe on our civil rights.\n",
    "\n",
    "During her talk, Dr. Gebru highlights that the issue of inequalities in AI and technology is not solely due to the lack of diversity in datasets but also a problem with the system itself. While more diverse datasets can yield better testing results, there must be representation beyond datasets. Dr. Gebru stresses that there must be representation from individuals who have been adversely impacted by algorithms to make decisions about these technologies. In order to address the biases and inequalities in AI technology, we must acknowledge the social and structural issues embedded in technology. \n",
    "\n",
    "Dr. Gebru also urges us to remember that no matter how abstract technology may seem, everything is connected to people in some way. She urges us to be more critical of the automated decisions made for us and whether these tasks are even ethical to begin with. She reminds us that we need a system that investigates algorithms and their side effects before they are released into the world.\n",
    "\n",
    "*__TLDR__: Due to unrepresentative datasets, systematic problems, and humans' innate trust in automated decisions, intended and unintended uses of image recognition are deepening inequities in our society.*\n",
    "\n",
    "### Questions \n",
    "- What are some effective systems of refusual not just for facial recognition, but other AI technologies? \n",
    "- What would an effective system that investigates algorithmic bias look like? "
   ]
  },
  {
   "cell_type": "markdown",
   "id": "76a36665-6f12-4376-ab65-210354fe4387",
   "metadata": {},
   "source": [
    "## Resources \n",
    "[https://en.wikipedia.org/wiki/Timnit_Gebru](https://en.wikipedia.org/wiki/Timnit_Gebru)  \n",
    "[https://time.com/6132399/timnit-gebru-ai-google/](https://time.com/6132399/timnit-gebru-ai-google/)"
   ]
  }
 ],
 "metadata": {
  "kernelspec": {
   "display_name": "Python [conda env:ml-0451] *",
   "language": "python",
   "name": "conda-env-ml-0451-py"
  },
  "language_info": {
   "codemirror_mode": {
    "name": "ipython",
    "version": 3
   },
   "file_extension": ".py",
   "mimetype": "text/x-python",
   "name": "python",
   "nbconvert_exporter": "python",
   "pygments_lexer": "ipython3",
   "version": "3.9.16"
  }
 },
 "nbformat": 4,
 "nbformat_minor": 5
}
